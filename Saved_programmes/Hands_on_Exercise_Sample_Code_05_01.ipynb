{
 "cells": [
  {
   "cell_type": "markdown",
   "metadata": {},
   "source": [
    "# Introduction:\n"
   ]
  },
  {
   "cell_type": "markdown",
   "metadata": {},
   "source": [
    "Now that you have learned how to import TXT and CSV files using standard Python functionality, we are introducing the same concepts in another library: <b>Pandas.</b>\n",
    "\n",
    "Pandas is your friend as a Data Scientist! It provides you with a lot of tools for data transformation with relatively few lines of code."
   ]
  },
  {
   "cell_type": "code",
   "execution_count": 4,
   "metadata": {},
   "outputs": [],
   "source": [
    "#We will first import Pandas. \n",
    "#Normally we import it with 'pd' as an alias.\n",
    "import pandas as pd"
   ]
  },
  {
   "cell_type": "markdown",
   "metadata": {},
   "source": [
    "We can now use the keyword <b>pd</b> to read our first csv file into 'Pandas DataFrame' (This is a specific Class in the Pandas library).\n",
    "\n",
    "INFO: The \"data\" folder should be located in the same folder as your Jupyter Notebook file!"
   ]
  },
  {
   "cell_type": "code",
   "execution_count": 8,
   "metadata": {},
   "outputs": [],
   "source": [
    "df1 = pd.read_csv('pandas_1_df_1.csv')"
   ]
  },
  {
   "cell_type": "markdown",
   "metadata": {},
   "source": [
    "# Assignment 1.1\n",
    "The text specified as a String is the direct path on your computer. <b>df1</b> is the object you have created of type DataFrame to store the data.\n",
    "\n",
    "You may want to take a look at the CSV files in excel, to understand the format.\n",
    "\n",
    "Go ahead and read the following file from the data folder:\n",
    "\n",
    "<b>pandas_1_df_2.csv</b>\n",
    "\n",
    "<details><summary>Hint 1</summary>\n",
    "    <p>\n",
    "        Use <b>df2</b> to store the DataFrames\n",
    "    </p>\n",
    "</details>"
   ]
  },
  {
   "cell_type": "code",
   "execution_count": 6,
   "metadata": {},
   "outputs": [],
   "source": [
    "#Read the file here!\n",
    "df2 = pd.read_csv(\"pandas_1_df_2.csv\")"
   ]
  },
  {
   "cell_type": "markdown",
   "metadata": {},
   "source": [
    "# Assignment 1.2\n",
    "Check the columns of DataFrames `df1` and `df2`.\n",
    "\n",
    "<details><summary>Hint 1</summary>\n",
    "    <p>\n",
    "        A pandas DataFrame has an attribute `columns`, that returns the columns of the DataFrame\n",
    "    </p>\n",
    "</details>"
   ]
  },
  {
   "cell_type": "code",
   "execution_count": 9,
   "metadata": {},
   "outputs": [
    {
     "name": "stdout",
     "output_type": "stream",
     "text": [
      "Index(['Knights', 'Ni!', 'Say', 'We', 'Who', 'are', 'the'], dtype='object')\n",
      "Index(['We', 'are', 'the', 'Knights', 'Who', 'Say', 'Ni!'], dtype='object')\n"
     ]
    }
   ],
   "source": [
    "#Check whats inside the columns of df1 and df2 here\n",
    "print(df1.columns)\n",
    "print(df2.columns)"
   ]
  },
  {
   "cell_type": "markdown",
   "metadata": {},
   "source": [
    "# Assignment 1.3\n",
    "It can often be helpful to briefly visualize the data you are working with. Having millions of rows you do not want to print all of them. Instead, print the first 10 rows of the dataframes.\n",
    "\n",
    "<details><summary>Hint 1</summary>\n",
    "    <p>\n",
    "        DataFrames has a method \"head()\" that takes the number of rows you want to print as an argument.\n",
    "    </p>\n",
    "</details>"
   ]
  },
  {
   "cell_type": "code",
   "execution_count": 17,
   "metadata": {},
   "outputs": [
    {
     "name": "stdout",
     "output_type": "stream",
     "text": [
      "   Knights  Ni!  Say  We  Who  are  the\n",
      "0        3    6   15   5    0    7    9\n",
      "1        3    4   14   4    5   22    4\n",
      "2        0    0   10   1    2    8    4\n",
      "3        2    4   19  11    6   12    9\n",
      "4        1    1   17   6    3   23    3\n",
      "5        2    2   21   2    2    1    8\n",
      "6        3    4   17   8    2   16    4\n",
      "7        0    3   21   6    2    3    3\n",
      "8        3    7   10   5    5   18    4\n",
      "9        5    1   15  15    1   22    5\n",
      "  We       are       the Knights Who       Say       Ni!\n",
      "0  c -0.069995 -2.215368       a   o -0.614659  0.793565\n",
      "1  v -1.201108 -1.549098       b   f  1.568587 -0.509798\n",
      "2  p  2.281151 -1.302166       w   m  1.417557 -0.258793\n",
      "3  e  0.725577 -0.301394       p   y  1.215806  1.423164\n",
      "4  w -0.250139  1.001280       u   g  1.050546 -0.016187\n",
      "5  y  0.212166 -0.255229       a   i -0.047883  1.325829\n",
      "6  p  0.550601 -0.221891       g   a  0.594509  0.166716\n",
      "7  x -0.443366  0.861269       n   u  1.550345 -0.316077\n",
      "8  v  0.688766 -0.974366       s   k -0.797777 -0.471146\n",
      "9  w -0.286019  0.278089       c   l  1.393658  0.916527\n"
     ]
    }
   ],
   "source": [
    "#Print here!\n",
    "print(df1.head(10))\n",
    "\n",
    "print(df2.head(10))"
   ]
  },
  {
   "cell_type": "markdown",
   "metadata": {},
   "source": [
    "# Assignment 1.4\n",
    "Check that the DataFrames `df1` and `df2` has the same number of columns. You should validate this using a '==' operator\n",
    "\n",
    "<details><summary>Hint 1</summary>\n",
    "    <p>\n",
    "        You can take the length of the column list or you can use the <b>shape</b> attribute, taking the second index.\n",
    "    </p>\n",
    "</details>"
   ]
  },
  {
   "cell_type": "code",
   "execution_count": 18,
   "metadata": {},
   "outputs": [
    {
     "name": "stdout",
     "output_type": "stream",
     "text": [
      "(789, 7)\n",
      "(363, 7)\n"
     ]
    }
   ],
   "source": [
    "#Example. First element in the tuple is the number of rows, the second is the number of columns:\n",
    "print(df1.shape)\n",
    "print(df2.shape)"
   ]
  },
  {
   "cell_type": "code",
   "execution_count": 22,
   "metadata": {},
   "outputs": [
    {
     "name": "stdout",
     "output_type": "stream",
     "text": [
      "True\n"
     ]
    }
   ],
   "source": [
    "#Compare df1 and df2 here.\n",
    "print(df1.shape[1] == df2.shape[1])\n"
   ]
  },
  {
   "cell_type": "markdown",
   "metadata": {},
   "source": [
    "# Assignment 1.5\n",
    "Now that you have played a little bit around with df1 and df2 we will have a look at df3: our <b>customer dataset.</b> First, let us load the dataset and check the first couple of rows to get accustomed to the dataset. Feel free to play a bit around with the data if you would like."
   ]
  },
  {
   "cell_type": "code",
   "execution_count": 26,
   "metadata": {},
   "outputs": [
    {
     "data": {
      "text/html": [
       "<div>\n",
       "<style scoped>\n",
       "    .dataframe tbody tr th:only-of-type {\n",
       "        vertical-align: middle;\n",
       "    }\n",
       "\n",
       "    .dataframe tbody tr th {\n",
       "        vertical-align: top;\n",
       "    }\n",
       "\n",
       "    .dataframe thead th {\n",
       "        text-align: right;\n",
       "    }\n",
       "</style>\n",
       "<table border=\"1\" class=\"dataframe\">\n",
       "  <thead>\n",
       "    <tr style=\"text-align: right;\">\n",
       "      <th></th>\n",
       "      <th>customer_id</th>\n",
       "      <th>product</th>\n",
       "      <th>price</th>\n",
       "      <th>grade_date</th>\n",
       "    </tr>\n",
       "  </thead>\n",
       "  <tbody>\n",
       "    <tr>\n",
       "      <th>0</th>\n",
       "      <td>3</td>\n",
       "      <td>C</td>\n",
       "      <td>10.50</td>\n",
       "      <td>2011-12-31</td>\n",
       "    </tr>\n",
       "    <tr>\n",
       "      <th>1</th>\n",
       "      <td>2</td>\n",
       "      <td>E</td>\n",
       "      <td>1.25</td>\n",
       "      <td>2011-12-31</td>\n",
       "    </tr>\n",
       "    <tr>\n",
       "      <th>2</th>\n",
       "      <td>6</td>\n",
       "      <td>C</td>\n",
       "      <td>4.00</td>\n",
       "      <td>2012-12-31</td>\n",
       "    </tr>\n",
       "    <tr>\n",
       "      <th>3</th>\n",
       "      <td>1</td>\n",
       "      <td>B</td>\n",
       "      <td>62.00</td>\n",
       "      <td>2012-06-30</td>\n",
       "    </tr>\n",
       "    <tr>\n",
       "      <th>4</th>\n",
       "      <td>3</td>\n",
       "      <td>E</td>\n",
       "      <td>26.75</td>\n",
       "      <td>2011-06-30</td>\n",
       "    </tr>\n",
       "    <tr>\n",
       "      <th>5</th>\n",
       "      <td>4</td>\n",
       "      <td>E</td>\n",
       "      <td>21.00</td>\n",
       "      <td>2011-12-31</td>\n",
       "    </tr>\n",
       "    <tr>\n",
       "      <th>6</th>\n",
       "      <td>5</td>\n",
       "      <td>D</td>\n",
       "      <td>24.65</td>\n",
       "      <td>2012-12-31</td>\n",
       "    </tr>\n",
       "    <tr>\n",
       "      <th>7</th>\n",
       "      <td>6</td>\n",
       "      <td>D</td>\n",
       "      <td>20.00</td>\n",
       "      <td>2012-06-30</td>\n",
       "    </tr>\n",
       "    <tr>\n",
       "      <th>8</th>\n",
       "      <td>2</td>\n",
       "      <td>E</td>\n",
       "      <td>32.00</td>\n",
       "      <td>2011-06-30</td>\n",
       "    </tr>\n",
       "    <tr>\n",
       "      <th>9</th>\n",
       "      <td>4</td>\n",
       "      <td>C</td>\n",
       "      <td>31.00</td>\n",
       "      <td>2011-12-31</td>\n",
       "    </tr>\n",
       "  </tbody>\n",
       "</table>\n",
       "</div>"
      ],
      "text/plain": [
       "   customer_id product  price  grade_date\n",
       "0            3       C  10.50  2011-12-31\n",
       "1            2       E   1.25  2011-12-31\n",
       "2            6       C   4.00  2012-12-31\n",
       "3            1       B  62.00  2012-06-30\n",
       "4            3       E  26.75  2011-06-30\n",
       "5            4       E  21.00  2011-12-31\n",
       "6            5       D  24.65  2012-12-31\n",
       "7            6       D  20.00  2012-06-30\n",
       "8            2       E  32.00  2011-06-30\n",
       "9            4       C  31.00  2011-12-31"
      ]
     },
     "execution_count": 26,
     "metadata": {},
     "output_type": "execute_result"
    }
   ],
   "source": [
    "#Import, print and play here!\n",
    "df3 = pd.read_csv('pandas_1_df_3.csv')\n",
    "df3.head(10)"
   ]
  },
  {
   "cell_type": "markdown",
   "metadata": {},
   "source": [
    "# Assignment 1.6\n",
    "Which customer had the most expensive purchase?"
   ]
  },
  {
   "cell_type": "code",
   "execution_count": 30,
   "metadata": {},
   "outputs": [
    {
     "name": "stdout",
     "output_type": "stream",
     "text": [
      "500.0\n"
     ]
    }
   ],
   "source": [
    "#You can write your answer here:\n",
    "print(df3['price'].max())\n"
   ]
  },
  {
   "cell_type": "markdown",
   "metadata": {},
   "source": [
    "# Assignment 1.7\n",
    "Having a DataFrame with millions of rows it can be time consuming to go through all of them manually. Let us now figure out how we do this using Pandas functionality...\n",
    "\n",
    "A Pandas <b>Series</b> is a kind of DataFrame, containing just one column. On this Series, we can get the <b>max</b> value.\n",
    "\n",
    "Now, find the max price!\n",
    "\n",
    "<details><summary>Hint 1</summary>\n",
    "    <p>\n",
    "        A Pandas Series has a method called <b>max()</b>\n",
    "    </p>\n",
    "</details>"
   ]
  },
  {
   "cell_type": "code",
   "execution_count": 31,
   "metadata": {},
   "outputs": [
    {
     "data": {
      "text/plain": [
       "0     3\n",
       "1     2\n",
       "2     6\n",
       "3     1\n",
       "4     3\n",
       "5     4\n",
       "6     5\n",
       "7     6\n",
       "8     2\n",
       "9     4\n",
       "10    6\n",
       "11    5\n",
       "12    3\n",
       "13    1\n",
       "14    3\n",
       "15    5\n",
       "16    2\n",
       "17    4\n",
       "18    6\n",
       "19    3\n",
       "20    5\n",
       "21    1\n",
       "22    4\n",
       "23    3\n",
       "24    1\n",
       "25    3\n",
       "26    4\n",
       "27    5\n",
       "28    6\n",
       "29    5\n",
       "30    6\n",
       "Name: customer_id, dtype: int64"
      ]
     },
     "execution_count": 31,
     "metadata": {},
     "output_type": "execute_result"
    }
   ],
   "source": [
    "#Example of customer id series:\n",
    "df3['customer_id']\n"
   ]
  },
  {
   "cell_type": "code",
   "execution_count": 32,
   "metadata": {},
   "outputs": [
    {
     "name": "stdout",
     "output_type": "stream",
     "text": [
      "500.0\n"
     ]
    }
   ],
   "source": [
    "#Find the highest price here:\n",
    "print(df3['price'].max())"
   ]
  },
  {
   "cell_type": "markdown",
   "metadata": {},
   "source": [
    "# Assignment 1.8\n",
    "Now find the minimum and mean price as well as the sum of all purchases. Do this in seperate statements."
   ]
  },
  {
   "cell_type": "code",
   "execution_count": 35,
   "metadata": {},
   "outputs": [
    {
     "name": "stdout",
     "output_type": "stream",
     "text": [
      "1583.9\n",
      "51.093548387096774\n",
      "1.25\n"
     ]
    }
   ],
   "source": [
    "#Find lowest, mean and sum here.\n",
    "print(df3['price'].sum())\n",
    "print(df3['price'].mean())\n",
    "print(df3['price'].min())"
   ]
  },
  {
   "cell_type": "markdown",
   "metadata": {},
   "source": [
    "# Assignment 1.9\n",
    "Let us say we are interested in finding our most valuable customers. To do this, we need a way to group our customers according to their unique ID. Luckily we have groupby functionality to do this.\n",
    "\n",
    "Find the revenue based on the sum of prices per customer:\n",
    "\n",
    "<details><summary>Hint 1</summary>\n",
    "    <p>\n",
    "        DataFrame has a method called groupby(). It takes the column you wish to group. You can run operations on this.\n",
    "    </p>\n",
    "</details>\n",
    "<details><summary>Hint 2</summary>\n",
    "    <p>\n",
    "        .. Such operations can be methods such as min() and max()\n",
    "    </p>\n",
    "</details>"
   ]
  },
  {
   "cell_type": "code",
   "execution_count": 39,
   "metadata": {},
   "outputs": [
    {
     "name": "stdout",
     "output_type": "stream",
     "text": [
      "              price\n",
      "customer_id        \n",
      "1            112.00\n",
      "2             83.25\n",
      "3            268.25\n",
      "4            152.50\n",
      "5            765.65\n",
      "6            202.25\n"
     ]
    }
   ],
   "source": [
    "#Revenue for each customer goes here!\n",
    "df3_cust_by_Id = df3.groupby(df3['customer_id'])\n",
    "print(df3_cust_by_Id.sum())"
   ]
  },
  {
   "cell_type": "markdown",
   "metadata": {},
   "source": [
    "Why was the Product name and Date not summed?"
   ]
  },
  {
   "cell_type": "code",
   "execution_count": 12,
   "metadata": {},
   "outputs": [],
   "source": [
    "#Answer here:\n",
    "#their types cannot be summed up as they are not integers or floats "
   ]
  }
 ],
 "metadata": {
  "kernelspec": {
   "display_name": "Python 3",
   "language": "python",
   "name": "python3"
  },
  "language_info": {
   "codemirror_mode": {
    "name": "ipython",
    "version": 3
   },
   "file_extension": ".py",
   "mimetype": "text/x-python",
   "name": "python",
   "nbconvert_exporter": "python",
   "pygments_lexer": "ipython3",
   "version": "3.8.3"
  }
 },
 "nbformat": 4,
 "nbformat_minor": 2
}

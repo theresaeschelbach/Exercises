{
 "cells": [
  {
   "cell_type": "markdown",
   "metadata": {},
   "source": [
    "# Lecture~03: Sample Code for Class Inheritance \n"
   ]
  },
  {
   "cell_type": "markdown",
   "metadata": {},
   "source": [
    "### Animal class as non-abstract class"
   ]
  },
  {
   "cell_type": "code",
   "execution_count": 3,
   "metadata": {},
   "outputs": [],
   "source": [
    "import random\n",
    "\n",
    "class Animal(object):\n",
    "    def __init__(self, age):\n",
    "        self.year = age\n",
    "        self.name = None\n",
    "\n",
    "    def get_age(self):\n",
    "        return self.year\n",
    "\n",
    "    def get_name(self):\n",
    "        return self.name\n",
    "\n",
    "    def set_age(self, newage):\n",
    "#        if not newage.isdigit():\n",
    "#            raise ValueError(\"the input value is not in proper format\") \n",
    "        self.year = newage\n",
    "\n",
    "    def set_name(self, newname=\"\"):\n",
    "        self.name = newname\n",
    "\n",
    "    def __str__(self):\n",
    "        return \"animal:\"+str(self.name)+\":\"+str(self.year)\n",
    "        \n",
    "\n"
   ]
  },
  {
   "cell_type": "markdown",
   "metadata": {},
   "source": [
    "### Using Animal class"
   ]
  },
  {
   "cell_type": "code",
   "execution_count": 2,
   "metadata": {},
   "outputs": [
    {
     "name": "stdout",
     "output_type": "stream",
     "text": [
      "\n",
      "---- animal tests ----\n",
      "a.get_age(): 4\n",
      "after set name\n",
      "animal:fluffy:4\n"
     ]
    },
    {
     "data": {
      "text/plain": [
       "\"\\na.__foo = 'stupid'\\nprint(a.__foo)\\nhelp(a.__foo)\\n\""
      ]
     },
     "execution_count": 2,
     "metadata": {},
     "output_type": "execute_result"
    }
   ],
   "source": [
    "print(\"\\n---- animal tests ----\")\n",
    "\n",
    "a = Animal(4)\n",
    "\n",
    "a.set_name('fluffy')\n",
    "\n",
    "print('a.get_age():',a.get_age())\n",
    "\n",
    "print('after set name')\n",
    "\n",
    "print(a)\n",
    "\n",
    "\n",
    "\"\"\"\n",
    "print(a.get_age())\n",
    "print(a.age)\n",
    "a.set_name(\"fluffy\")\n",
    "print(a)\n",
    "a.set_name()\n",
    "print(a)\n",
    "\"\"\"\n",
    "\n",
    "\"\"\"\n",
    "a.__foo = 'stupid'\n",
    "print(a.__foo)\n",
    "help(a.__foo)\n",
    "\"\"\"\n"
   ]
  },
  {
   "cell_type": "markdown",
   "metadata": {},
   "source": [
    "### Super class and Sub class\n",
    "Just show that if the subclass does not have __init__ methods, it adopts from its parent."
   ]
  },
  {
   "cell_type": "code",
   "execution_count": 13,
   "metadata": {},
   "outputs": [],
   "source": [
    "class super_class(object):\n",
    "    \"\"\"This is super class\"\"\"\n",
    "    def __init__(self):\n",
    "        print('super_class init method called!')\n",
    "    \n",
    "\n",
    "class sub_class(super_class):\n",
    "    \"\"\"This is a sub class that inherits the super class\"\"\"\n",
    "    pass\n",
    "    "
   ]
  },
  {
   "cell_type": "code",
   "execution_count": 14,
   "metadata": {},
   "outputs": [
    {
     "name": "stdout",
     "output_type": "stream",
     "text": [
      "super_class init method called!\n"
     ]
    }
   ],
   "source": [
    "#super_instance = super_class()\n",
    "\n",
    "sub_instance = sub_class()\n"
   ]
  },
  {
   "cell_type": "markdown",
   "metadata": {},
   "source": [
    "#### Refining the classes"
   ]
  },
  {
   "cell_type": "code",
   "execution_count": 19,
   "metadata": {},
   "outputs": [],
   "source": [
    "class super_class(object):\n",
    "    \"\"\"This is super class\"\"\"\n",
    "    def __init__(self):\n",
    "        print('super_class init method called!')\n",
    "    \n",
    "\n",
    "class sub_class(super_class):\n",
    "    \"\"\"This is a sub class that inherits super class\"\"\"\n",
    "    def __init__ (self):\n",
    "        print('sub_class init method called!')\n",
    "        #super().__init__()\n",
    "\n"
   ]
  },
  {
   "cell_type": "code",
   "execution_count": 20,
   "metadata": {},
   "outputs": [
    {
     "name": "stdout",
     "output_type": "stream",
     "text": [
      "sub_class init method called!\n"
     ]
    }
   ],
   "source": [
    "#super_instance = super_class()\n",
    "\n",
    "sub_instance = sub_class()"
   ]
  },
  {
   "cell_type": "markdown",
   "metadata": {},
   "source": [
    "### Example for abstract class definition"
   ]
  },
  {
   "cell_type": "code",
   "execution_count": 21,
   "metadata": {},
   "outputs": [],
   "source": [
    "from abc import ABC, abstractmethod\n",
    "\n",
    "class Abstract_class(ABC):\n",
    "    \"\"\" abstract class\"\"\"\n",
    "    @abstractmethod\n",
    "    def foo(self):\n",
    "        print('foo() method from abstract class!')\n",
    "\n",
    "\n",
    "class Sub_class(Abstract_class):\n",
    "    \n",
    "    def foo (self):\n",
    "        print('foo from subclass!')\n",
    "        #super().foo()\n",
    "\n"
   ]
  },
  {
   "cell_type": "code",
   "execution_count": 24,
   "metadata": {},
   "outputs": [
    {
     "name": "stdout",
     "output_type": "stream",
     "text": [
      "foo from subclass!\n"
     ]
    }
   ],
   "source": [
    "# uncommenting the following code gives error as\n",
    "# we can not create a instance of abstract class.\n",
    "# uncomment it and test..\n",
    "\n",
    "#a = Abstract_class()\n",
    "\n",
    "sc = Sub_class()\n",
    "sc.foo()"
   ]
  },
  {
   "cell_type": "markdown",
   "metadata": {},
   "source": [
    "### Defining Animal class as abstract class"
   ]
  },
  {
   "cell_type": "code",
   "execution_count": 28,
   "metadata": {},
   "outputs": [],
   "source": [
    "from abc import ABC, abstractmethod\n",
    "\n",
    "class Animal(ABC):\n",
    "    def __init__(self, age):\n",
    "        self.age = age\n",
    "        self.name = None\n",
    "    \n",
    "    # This will throw error, if you uncomment the code, as it makes\n",
    "    # the class abstract.\n",
    "    #@abstractmethod\n",
    "    def foo(self):\n",
    "        print('abstract foo() method from  Animal!')\n",
    "    def get_age(self):\n",
    "        return self.age\n",
    "    def get_name(self):\n",
    "        return self.name\n",
    "    def set_age(self, newage):\n",
    "        self.age = newage\n",
    "    def set_name(self, newname=\"\"):\n",
    "        self.name = newname\n",
    "    def __str__(self):\n",
    "        return \"animal:\"+str(self.name)+\":\"+str(self.age)\n",
    "        \n",
    "\n"
   ]
  },
  {
   "cell_type": "code",
   "execution_count": 29,
   "metadata": {},
   "outputs": [
    {
     "name": "stdout",
     "output_type": "stream",
     "text": [
      "\n",
      "---- animal tests ----\n",
      "animal:None:4\n",
      "4\n",
      "animal:fluffy:4\n",
      "animal::4\n"
     ]
    }
   ],
   "source": [
    "print(\"\\n---- animal tests ----\")\n",
    "a = Animal(4)\n",
    "print(a)\n",
    "print(a.get_age())\n",
    "a.set_name(\"fluffy\")\n",
    "print(a)\n",
    "a.set_name()\n",
    "print(a)"
   ]
  },
  {
   "cell_type": "markdown",
   "metadata": {},
   "source": [
    "### Defining a Cat Subclass inheriting from Animal"
   ]
  },
  {
   "cell_type": "code",
   "execution_count": 36,
   "metadata": {},
   "outputs": [],
   "source": [
    "class Cat(Animal):\n",
    "    \n",
    "    def __init__(self,age,name):\n",
    "        super().__init__(age)\n",
    "        self.name = name\n",
    "    \n",
    "    def speak(self):\n",
    "        print(\"meow\")\n",
    "    def __str__(self):\n",
    "        return \"cat:\"+str(self.name)+\":\"+str(self.age)\n",
    "    def foo():\n",
    "        pass"
   ]
  },
  {
   "cell_type": "code",
   "execution_count": 37,
   "metadata": {},
   "outputs": [
    {
     "name": "stdout",
     "output_type": "stream",
     "text": [
      "\n",
      "---- cat tests ----\n",
      "cat:kitty:7\n",
      "meow\n",
      "7\n"
     ]
    }
   ],
   "source": [
    "print(\"\\n---- cat tests ----\")\n",
    "\n",
    "c = Cat(7, \"kitty\")\n",
    "\n",
    "#c.set_name(\"fluffy\")\n",
    "\n",
    "print(c)\n",
    "c.speak()\n",
    "print(c.get_age())\n"
   ]
  },
  {
   "cell_type": "markdown",
   "metadata": {},
   "source": [
    "### Defining a Person Subclass inheriting from Animal"
   ]
  },
  {
   "cell_type": "code",
   "execution_count": 42,
   "metadata": {},
   "outputs": [],
   "source": [
    "class Person(Animal):\n",
    "    def __init__(self, name, age):\n",
    "        Animal.__init__(self, age)\n",
    "        self.set_name(name)\n",
    "        self.friends = []\n",
    "    def get_friends(self):\n",
    "        return self.friends\n",
    "    def speak(self):\n",
    "        print(\"hello\")\n",
    "    def add_friend(self, fname):\n",
    "        if fname not in self.friends:\n",
    "            self.friends.append(fname)\n",
    "    def age_diff(self, other):\n",
    "        diff = self.age - other.age\n",
    "        print(abs(diff), \"year difference\")\n",
    "    def __str__(self):\n",
    "        return \"person:\"+str(self.name)+\":\"+str(self.age)\n"
   ]
  },
  {
   "cell_type": "code",
   "execution_count": 43,
   "metadata": {},
   "outputs": [
    {
     "name": "stdout",
     "output_type": "stream",
     "text": [
      "\n",
      "---- person tests ----\n",
      "jack\n",
      "30\n",
      "jill\n",
      "25\n",
      "person:jack:30\n",
      "hello\n",
      "5 year difference\n"
     ]
    }
   ],
   "source": [
    "print(\"\\n---- person tests ----\")\n",
    "\n",
    "p1 = Person(\"jack\", 30)\n",
    "\n",
    "p2 = Person(\"jill\", 25)\n",
    "\n",
    "print(p1.get_name())\n",
    "\n",
    "print(p1.get_age())\n",
    "\n",
    "print(p2.get_name())\n",
    "\n",
    "print(p2.get_age())\n",
    "\n",
    "print(p1)\n",
    "\n",
    "p1.speak()\n",
    "\n",
    "Person.age_diff(p2,p1)\n"
   ]
  },
  {
   "cell_type": "markdown",
   "metadata": {},
   "source": [
    "### Defining a Student Subclass inheriting from Person"
   ]
  },
  {
   "cell_type": "code",
   "execution_count": 44,
   "metadata": {},
   "outputs": [],
   "source": [
    "import random\n",
    "\n",
    "class Student(Person):\n",
    "    def __init__(self, name, age, major=None):\n",
    "        Person.__init__(self, name, age)\n",
    "        self.major = major\n",
    "    def __str__(self):\n",
    "        return \"student:\"+str(self.name)+\":\"+str(self.age)+\":\"+str(self.major)\n",
    "    def change_major(self, major):\n",
    "        self.major = major\n",
    "    def speak(self):\n",
    "        r = random.random()\n",
    "        if r < 0.25:\n",
    "            print(\"i have homework\")\n",
    "        elif 0.25 <= r < 0.5:\n",
    "            print(\"i need sleep\")\n",
    "        elif 0.5 <= r < 0.75:\n",
    "            print(\"i should eat\")\n",
    "        else:\n",
    "            print(\"i am watching tv\")\n",
    "    def foo():\n",
    "        pass"
   ]
  },
  {
   "cell_type": "code",
   "execution_count": 45,
   "metadata": {},
   "outputs": [
    {
     "name": "stdout",
     "output_type": "stream",
     "text": [
      "\n",
      "---- student tests ----\n",
      "student:alice:20:CS\n",
      "student:beth:18:None\n",
      "alice says: i am watching tv\n",
      "beth says: i have homework\n"
     ]
    }
   ],
   "source": [
    "print(\"\\n---- student tests ----\")\n",
    "s1 = Student('alice', 20, \"CS\")\n",
    "s2 = Student('beth', 18)\n",
    "print(s1)\n",
    "print(s2)\n",
    "print(s1.get_name(),\"says:\", end=\" \")\n",
    "s1.speak()\n",
    "print(s2.get_name(),\"says:\", end=\" \")\n",
    "s2.speak()\n"
   ]
  },
  {
   "cell_type": "markdown",
   "metadata": {},
   "source": [
    "### Define Rabbit subclass inheriting from Animal"
   ]
  },
  {
   "cell_type": "code",
   "execution_count": 46,
   "metadata": {},
   "outputs": [],
   "source": [
    "class Rabbit(Animal):\n",
    "    # a class variable, tag, shared across all instances\n",
    "    tag = 0\n",
    "    def __init__(self, age, parent1=None, parent2=None):\n",
    "        Animal.__init__(self, age)\n",
    "        self.parent1 = parent1\n",
    "        self.parent2 = parent2\n",
    "        self.rid = Rabbit.tag\n",
    "        Rabbit.tag += 1\n",
    "    def get_rid(self):\n",
    "        # zfill used to add leading zeroes 001 instead of 1\n",
    "        return str(self.rid).zfill(3)\n",
    "    def get_parent1(self):\n",
    "        return self.parent1\n",
    "    def get_parent2(self):\n",
    "        return self.parent2\n",
    "    def __add__(self, other):\n",
    "        # returning object of same type as this class\n",
    "        return Rabbit(0, self, other)\n",
    "    def __eq__(self, other):\n",
    "        # compare the ids of self and other's parents\n",
    "        # don't care about the order of the parents\n",
    "        # the backslash tells python I want to break up my line\n",
    "        parents_same = self.parent1.rid == other.parent1.rid \\\n",
    "                       and self.parent2.rid == other.parent2.rid\n",
    "        parents_opposite = self.parent2.rid == other.parent1.rid \\\n",
    "                           and self.parent1.rid == other.parent2.rid\n",
    "        return parents_same or parents_opposite\n",
    "    def __str__(self):\n",
    "        return \"rabbit:\"+ self.get_rid()\n"
   ]
  },
  {
   "cell_type": "code",
   "execution_count": 47,
   "metadata": {},
   "outputs": [
    {
     "name": "stdout",
     "output_type": "stream",
     "text": [
      "\n",
      "---- rabbit tests ----\n",
      "---- testing creating rabbits ----\n",
      "r3 == r4: True\n",
      "r3.get_age 0\n",
      "r3.parent1 rabbit:000\n",
      "r3.parent2 rabbit:001\n"
     ]
    },
    {
     "data": {
      "text/plain": [
       "'\\n\\nr3.get_rid()\\nprint(\"r1:\", r1)\\nprint(\"r2:\", r2)\\nprint(\"r3:\", r3)\\nprint(\"r1 parent1:\", r1.get_parent1())\\nprint(\"r1 parent2:\", r1.get_parent2())\\n'"
      ]
     },
     "execution_count": 47,
     "metadata": {},
     "output_type": "execute_result"
    }
   ],
   "source": [
    "print(\"\\n---- rabbit tests ----\")\n",
    "\n",
    "print(\"---- testing creating rabbits ----\")\n",
    "\n",
    "r1 = Rabbit(3)\n",
    "\n",
    "r2 = Rabbit(4)\n",
    "\n",
    "r3 = r1 + r2\n",
    "\n",
    "r4 = r1 + r2\n",
    "\n",
    "print('r3 == r4:', r3 == r4)\n",
    "\n",
    "print('r3.get_age', r3.get_age())\n",
    "\n",
    "print('r3.parent1', r3.get_parent1())\n",
    "\n",
    "print('r3.parent2', r3.get_parent2())\n",
    "\n",
    "\n",
    "\n",
    "\"\"\"\n",
    "\n",
    "r3.get_rid()\n",
    "print(\"r1:\", r1)\n",
    "print(\"r2:\", r2)\n",
    "print(\"r3:\", r3)\n",
    "print(\"r1 parent1:\", r1.get_parent1())\n",
    "print(\"r1 parent2:\", r1.get_parent2())\n",
    "\"\"\""
   ]
  },
  {
   "cell_type": "code",
   "execution_count": 48,
   "metadata": {},
   "outputs": [
    {
     "name": "stdout",
     "output_type": "stream",
     "text": [
      "---- testing rabbit addition ----\n",
      "r1: rabbit:000\n",
      "r2: rabbit:001\n",
      "r4: rabbit:004\n",
      "r4 parent1: rabbit:000\n",
      "r4 parent2: rabbit:001\n"
     ]
    }
   ],
   "source": [
    "print(\"---- testing rabbit addition ----\")\n",
    "r4 = r1+r2   # r1.__add__(r2)\n",
    "print(\"r1:\", r1)\n",
    "print(\"r2:\", r2)\n",
    "print(\"r4:\", r4)\n",
    "print(\"r4 parent1:\", r4.get_parent1())\n",
    "print(\"r4 parent2:\", r4.get_parent2())"
   ]
  },
  {
   "cell_type": "code",
   "execution_count": 49,
   "metadata": {},
   "outputs": [
    {
     "name": "stdout",
     "output_type": "stream",
     "text": [
      "---- testing rabbit equality ----\n",
      "r3: rabbit:002\n",
      "r4: rabbit:004\n",
      "r5: rabbit:005\n",
      "r6: rabbit:006\n",
      "r5 parent1: rabbit:002\n",
      "r5 parent2: rabbit:004\n",
      "r6 parent1: rabbit:004\n",
      "r6 parent2: rabbit:002\n",
      "r5 and r6 have same parents? True\n",
      "r4 and r6 have same parents? False\n"
     ]
    }
   ],
   "source": [
    "print(\"---- testing rabbit equality ----\")\n",
    "r5 = r3+r4\n",
    "r6 = r4+r3\n",
    "print(\"r3:\", r3)\n",
    "print(\"r4:\", r4)\n",
    "print(\"r5:\", r5)\n",
    "print(\"r6:\", r6)\n",
    "print(\"r5 parent1:\", r5.get_parent1())\n",
    "print(\"r5 parent2:\", r5.get_parent2())\n",
    "print(\"r6 parent1:\", r6.get_parent1())\n",
    "print(\"r6 parent2:\", r6.get_parent2())\n",
    "print(\"r5 and r6 have same parents?\", r5 == r6)\n",
    "print(\"r4 and r6 have same parents?\", r4 == r6)\n"
   ]
  },
  {
   "cell_type": "code",
   "execution_count": null,
   "metadata": {},
   "outputs": [],
   "source": []
  }
 ],
 "metadata": {
  "kernelspec": {
   "display_name": "Python 3",
   "language": "python",
   "name": "python3"
  },
  "language_info": {
   "codemirror_mode": {
    "name": "ipython",
    "version": 3
   },
   "file_extension": ".py",
   "mimetype": "text/x-python",
   "name": "python",
   "nbconvert_exporter": "python",
   "pygments_lexer": "ipython3",
   "version": "3.8.3"
  }
 },
 "nbformat": 4,
 "nbformat_minor": 2
}

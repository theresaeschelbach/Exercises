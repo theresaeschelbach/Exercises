{
 "cells": [
  {
   "cell_type": "code",
   "execution_count": 4,
   "metadata": {},
   "outputs": [
    {
     "name": "stdout",
     "output_type": "stream",
     "text": [
      "233168\n",
      "233168\n"
     ]
    }
   ],
   "source": [
    "#Question 1\n",
    "#1a\n",
    "sum_num = 0\n",
    "for i in range(0, 1000):\n",
    "    if i % 3 == 0 or i % 5 == 0: \n",
    "        sum_num += i\n",
    "print(sum_num)\n",
    "\n",
    "#1b\n",
    "counter = 0\n",
    "sum_num_2 = 0\n",
    "while counter < 1000: \n",
    "    if counter % 3 == 0 or counter % 5 == 0: \n",
    "        sum_num_2 += counter\n",
    "    counter += 1\n",
    "print(sum_num_2)"
   ]
  },
  {
   "cell_type": "code",
   "execution_count": 3,
   "metadata": {},
   "outputs": [
    {
     "name": "stdout",
     "output_type": "stream",
     "text": [
      "3888\n"
     ]
    }
   ],
   "source": [
    "# Question2\n",
    "\n",
    "hundred_digit_str = '731671765313306249192251' \\\n",
    "                    '196744265747423553491949349' \\\n",
    "                    '6983520312774506326239578318' \\\n",
    "                    '016984801869478851843'\n",
    "\n",
    "\n",
    "\n",
    "\n",
    "\n",
    "def find_biggest_product(num_100_dig_list, slice):\n",
    "    list_number = [int(x) for x in num_100_dig_list]\n",
    "    calculations = []\n",
    "    s = 0\n",
    "    while s <= (len(list_number)- slice):\n",
    "        calculations.append(list_number[s] * list_number[s + 1] * list_number[s + 2] * list_number[s + 3])\n",
    "        s += 1\n",
    "        calculations.sort()\n",
    "    print(calculations[-1])\n",
    "\n",
    "\n",
    "find_biggest_product(hundred_digit_str, 4)"
   ]
  },
  {
   "cell_type": "code",
   "execution_count": 11,
   "metadata": {},
   "outputs": [
    {
     "data": {
      "text/plain": [
       "3888"
      ]
     },
     "execution_count": 11,
     "metadata": {},
     "output_type": "execute_result"
    }
   ],
   "source": [
    "# Question 2\n",
    "\n",
    "import functools\n",
    "digits_str = \"7316717653133062491922511967442657474235534919493496983520312774506326239578318016984801869478851843\"\n",
    "# digits_str = \"14352\"\n",
    "digits = [int(c) for c in digits_str] \n",
    "# print(digits)\n",
    "result = 0\n",
    "\n",
    "\n",
    "for start, x in enumerate(digits): #for x in list oder (x =wert) for index,x in list in enumerate(wichtig)\n",
    "    end = start + 4\n",
    "    if end < len(digits):\n",
    "        result = max(functools.reduce(lambda a,b : a*b, digits[start:end]), result)\n",
    "result"
   ]
  },
  {
   "cell_type": "code",
   "execution_count": 10,
   "metadata": {},
   "outputs": [
    {
     "name": "stdout",
     "output_type": "stream",
     "text": [
      "[1, 3, 5, 7, 9] [2, 4, 6, 8]\n"
     ]
    }
   ],
   "source": [
    "#Question 3\n",
    "list_01 = [1,2,3,4,5,6,7,8,9]\n",
    "\n",
    "def seperate_numbers(list_x):\n",
    "    odd = [s for s in list_x if s%2 != 0]\n",
    "    even = [s for s in list_x if s % 2 == 0]\n",
    "    return odd, even\n",
    "\n",
    "odd, even = seperate_numbers(list_01)\n",
    "print(odd, even)"
   ]
  },
  {
   "cell_type": "code",
   "execution_count": 16,
   "metadata": {},
   "outputs": [
    {
     "name": "stdout",
     "output_type": "stream",
     "text": [
      "Enter the string to be reversed: hallo ich heiße theresa\n",
      "asereht eßieh hci ollah\n"
     ]
    }
   ],
   "source": [
    "#Question 4 \n",
    "\n",
    "def reverse_string(string_input):\n",
    "    if len(string_input) == 0:\n",
    "        return string_input\n",
    "    else:\n",
    "        return reverse_string(string_input[1:]) + string_input[0]\n",
    "a = str(input(\"Enter the string to be reversed: \"))\n",
    "print(reverse_string(a))"
   ]
  },
  {
   "cell_type": "code",
   "execution_count": 6,
   "metadata": {},
   "outputs": [
    {
     "name": "stdout",
     "output_type": "stream",
     "text": [
      "['c', 'a', 'a', 'a', 'a', 'a', 'a', 'a', 'a', 'a', 'a', 'a', 'a', 'a', 't']\n",
      "1\n"
     ]
    }
   ],
   "source": [
    "#Question 5\n",
    "\n",
    "def word_search(word, string_1):\n",
    "    word_split = list(word)\n",
    "    number_counter = [0]* len(word_split)\n",
    "    print(word_split)\n",
    "\n",
    "    for i in range(0, len(word_split)):\n",
    "        for j in range(0, len(string_1)):\n",
    "        # if match found increase the specific counter in list\n",
    "            if(word_split[i] == string_1[j]):\n",
    "                number_counter[i] +=1\n",
    "    number_counter.sort()\n",
    "    #print(least_frequent)\n",
    "    print(number_counter[0])\n",
    "\n",
    "word_search(\"caaaaaaaaaaaaat\", \"cgatahtatttaaaatatatastadfa\")"
   ]
  },
  {
   "cell_type": "code",
   "execution_count": 10,
   "metadata": {},
   "outputs": [
    {
     "name": "stdout",
     "output_type": "stream",
     "text": [
      "{'c': 1, 'a': 2, 't': 1}\n",
      "{'c': 8, 'a': 12, 't': 9}\n",
      "None\n"
     ]
    }
   ],
   "source": [
    "string=\"ccgatcahctatttaaaaccctatcatastadfa\"\n",
    "word=\"caat\"\n",
    "\n",
    "def word_in_string(word, string):\n",
    "    char_in_string = {}\n",
    "    char_in_word = {}\n",
    "    lowest=len(string)\n",
    "    for c in word:\n",
    "        char_in_string[c] = string.count(c)\n",
    "        char_in_word[c] = word.count(c)\n",
    "    print(char_in_word)\n",
    "    print(char_in_string)\n",
    "    #for c in char_in_string.keys():\n",
    "        #char_in_string[c]=char_in_string[c]/char_in_word[c]\n",
    "    #lowest=min(char_in_string.values())        \n",
    "    #return int(lowest)\n",
    "\n",
    "print(word_in_string(word, string))\n"
   ]
  },
  {
   "cell_type": "code",
   "execution_count": 1,
   "metadata": {},
   "outputs": [
    {
     "name": "stdout",
     "output_type": "stream",
     "text": [
      "('Copenhagen*hostedCop*summitatBellaCentreinwhichwasattendedbydelegatesfrommorethan*countries', '*9*09*2009*100*')\n"
     ]
    }
   ],
   "source": [
    "def char_numb_sep (str_1, seperator):\n",
    "    alphabet = \"abcdefghijklmnopqrstuvwxyzABCDEFGHIJKLMNOPQRSTUVWXYZ\"\n",
    "    numbers = \"0123456789\"\n",
    "    str_long = str_1.replace(\" \", \"\")\n",
    "    counter = 0\n",
    "    out_letters = []\n",
    "    out_numbers = []\n",
    "    out_str_let = \"\"\n",
    "    out_str_num = \"\"\n",
    "    while(counter < len(str_long)-1):\n",
    "        if str_long[counter] in numbers:\n",
    "            out_numbers.append(str_long[counter])\n",
    "            if str_long[counter+1] in alphabet:\n",
    "                out_letters.append(seperator)\n",
    "        elif str_long[counter] in alphabet:\n",
    "            out_letters.append(str_long[counter])\n",
    "            if str_long[counter+1] not in alphabet:\n",
    "                out_numbers.append(seperator)\n",
    "        counter += 1\n",
    "    output_1 =(out_str_let.join(out_letters))\n",
    "    output_2 =(out_str_num.join(out_numbers))\n",
    "    output_tuple = (output_1, output_2)\n",
    "    print(output_tuple)\n",
    "\n",
    "\n",
    "\n",
    "char_numb_sep('Copenhagen9 hosted Cop -09 summit ' \\\n",
    "'at Bella Centre in 2009 , which' \\\n",
    "'was attended by delegates from' \\\n",
    "'more than 100 countries .', \"*\")"
   ]
  },
  {
   "cell_type": "code",
   "execution_count": null,
   "metadata": {},
   "outputs": [],
   "source": []
  }
 ],
 "metadata": {
  "kernelspec": {
   "display_name": "Python 3",
   "language": "python",
   "name": "python3"
  },
  "language_info": {
   "codemirror_mode": {
    "name": "ipython",
    "version": 3
   },
   "file_extension": ".py",
   "mimetype": "text/x-python",
   "name": "python",
   "nbconvert_exporter": "python",
   "pygments_lexer": "ipython3",
   "version": "3.8.3"
  }
 },
 "nbformat": 4,
 "nbformat_minor": 4
}

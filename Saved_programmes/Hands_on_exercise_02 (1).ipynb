{
 "cells": [
  {
   "cell_type": "markdown",
   "metadata": {},
   "source": [
    "<center> <h1> Data Analytics with Python (LA F20 D1FMV2025U) </h1> </center>\n",
    "\n",
    "<center> <h2> Lecture 02 -: Handson Exercises </h2> </center>\n",
    "\n",
    "<center> <h4> Raghava Mukkamala (rrm.digi@cbs.dk) & Mikkel Harlev (mha.digi@cbs.dk) </h4> </center>\n",
    "\n",
    "Instructions\n",
    "\n",
    "Please use Python 3 for working on the following questions.\n"
   ]
  },
  {
   "cell_type": "markdown",
   "metadata": {},
   "source": []
  },
  {
   "cell_type": "markdown",
   "metadata": {},
   "source": [
    "## [Functions]\n",
    "\n",
    "### Q1:\n",
    "Write a Python function that will take any integer $n$ as a input and compute the sum of all numbers till $n$ that are a multiple of either 3 or 5. Write also code for testing your code for a $n$ value of 1000, 10000, 100000 and 100000. \n",
    "\n",
    "**Hint** You can reuse your code from the solution for exercise 01 on **[Control Flow]** from **Lecture 01 -: Handson Exercises**. Use modulo (%) operator to check if a number is multiple of another number.\n",
    "\n"
   ]
  },
  {
   "cell_type": "code",
   "execution_count": 6,
   "metadata": {},
   "outputs": [],
   "source": [
    "# Solution for exercise - Q1 - Function Definition\n",
    "\n",
    "def counting (n):\n",
    "    counter = 0\n",
    "    for i in range(n): \n",
    "        if i % 3 == 0 or i % 5 == 0: \n",
    "            counter += i\n",
    "    print(counter)\n",
    "            \n",
    "\n",
    "            "
   ]
  },
  {
   "cell_type": "code",
   "execution_count": 7,
   "metadata": {},
   "outputs": [
    {
     "name": "stdout",
     "output_type": "stream",
     "text": [
      "233168\n",
      "23331668\n",
      "2333316668\n",
      "233333166668\n"
     ]
    }
   ],
   "source": [
    "# Testing code for exercise - Q1 \n",
    "\n",
    "counting(1000)\n",
    "counting(10000)\n",
    "counting(100000)\n",
    "counting(1000000)\n",
    "\n"
   ]
  },
  {
   "cell_type": "markdown",
   "metadata": {},
   "source": [
    "## [Variable Scoping]"
   ]
  },
  {
   "cell_type": "markdown",
   "metadata": {},
   "source": [
    "### Q2:\n",
    "\n",
    "The following sample code is on scoping of variables. Run the code and understand the how variable scoping works in different function scopes. You may also consider to use visualization using \n",
    "http://www.pythontutor.com/visualize.html#mode=edit to understand the variable scoping in different contexts.\n",
    "\n"
   ]
  },
  {
   "cell_type": "code",
   "execution_count": 8,
   "metadata": {},
   "outputs": [
    {
     "name": "stdout",
     "output_type": "stream",
     "text": [
      "in f(x): x = 4\n",
      "in main program scope: z = 4\n",
      "in main program scope: x = 3\n",
      "in g(x): x =  4\n",
      "in h(x): x =  5\n",
      "in main program scope: x =  3\n",
      "in main program scope: z =  4\n"
     ]
    }
   ],
   "source": [
    "def f(x):\n",
    "    \n",
    "    x= x + 1\n",
    "    print('in f(x): x =', x) \n",
    "    return x\n",
    "\n",
    "x = 3\n",
    "\n",
    "z = f(x)\n",
    "\n",
    "print('in main program scope: z =', z) \n",
    "\n",
    "\n",
    "print('in main program scope: x =', x)\n",
    "\n",
    "\n",
    "def g(x): \n",
    "    def h(x):\n",
    "        x = x + 1\n",
    "        print(\"in h(x): x = \", x) \n",
    "\n",
    "    x = x + 1\n",
    "    print('in g(x): x = ', x) \n",
    "    h(x)\n",
    "    return x\n",
    "\n",
    "\n",
    "x = 3\n",
    "\n",
    "z = g(x)\n",
    "\n",
    "print('in main program scope: x = ', x) \n",
    "\n",
    "print('in main program scope: z = ', z)"
   ]
  },
  {
   "cell_type": "markdown",
   "metadata": {},
   "source": [
    "## [List Comprehension]\n",
    "\n",
    "### Q3:\n",
    "\n",
    "For any given list of numbers (say **list_01**), write python code using list comprehension to separate the list into two sub-lists containing even and odd numbers respectively. Test your code using the following list and print the output. \n",
    "\n",
    "        list_01 = [1,2,3,4,5,6,7,8,9]\n",
    "\n"
   ]
  },
  {
   "cell_type": "code",
   "execution_count": 9,
   "metadata": {},
   "outputs": [
    {
     "name": "stdout",
     "output_type": "stream",
     "text": [
      "[1, 3, 5, 7, 9]\n",
      "[2, 4, 6, 8]\n"
     ]
    }
   ],
   "source": [
    "# Your solution for Q3 \n",
    "\n",
    "list_01 = [1,2,3,4,5,6,7,8,9]\n",
    "\n",
    "def seperate_numbers(list_x):\n",
    "    odd = [s for s in list_x if s%2 != 0]\n",
    "    even = [s for s in list_x if s % 2 == 0]\n",
    "    print(odd)\n",
    "    print(even)\n",
    "\n",
    "seperate_numbers(list_01)\n",
    "\n",
    "\n",
    "\n",
    "\n"
   ]
  },
  {
   "cell_type": "markdown",
   "metadata": {},
   "source": [
    "## [List and Functions]\n",
    "\n",
    "### Q4:\n",
    "\n",
    "Write a function that takes a list of numbers and returns a new list containing summation of consecutive numbers in the given list. Test your program on list \n",
    "\n",
    "a = [7,5,6,45,23,1,4,90]\n",
    "\n",
    "\n",
    "**Hint** \n",
    "\n",
    "For example, if we were given a list [1,2,3], then your function should return [3,5], containing the first number as 3 (1 + 2=3) and second element as 5 (2 + 3=5).\n"
   ]
  },
  {
   "cell_type": "code",
   "execution_count": 20,
   "metadata": {},
   "outputs": [],
   "source": [
    "# Solution for Q4\n",
    "def summation (list_test):\n",
    "    summe = []\n",
    "    for s in range(len(list_test)-1):\n",
    "        summe.append(list_test[s]+list_test[s+1])\n",
    "    print(summe)\n",
    "\n",
    "\n",
    "\n"
   ]
  },
  {
   "cell_type": "code",
   "execution_count": 21,
   "metadata": {},
   "outputs": [
    {
     "name": "stdout",
     "output_type": "stream",
     "text": [
      "[12, 11, 51, 68, 24, 5, 94]\n"
     ]
    }
   ],
   "source": [
    "# Testing code for Q4\n",
    "\n",
    "a = [7,5,6,45,23,1,4,90]\n",
    "summation(a)\n",
    "\n"
   ]
  },
  {
   "cell_type": "markdown",
   "metadata": {},
   "source": [
    "## [Dictionaries and Functions]\n",
    "\n",
    "### Q5:\n",
    "\n",
    "Write a function that takes a list of numbers and returns a dictionary containing the numbers as keys and their squares as values. Note that your function should work fine even if list contains repeated numbers. \n",
    "\n",
    "Test your program on the following lists  \n",
    "\n",
    "        a = [7, 5, 6, 45, 23, 1, 4, 90]\n",
    "        \n",
    "        b = [ 3, 5, 79, 4, 3, 81, 22]\n",
    "\n",
    "\n",
    "**Hint** \n",
    "\n",
    "For example, if we were given a list [1,2,3], then your function should return a dictionary containing keys and values as: { 1: 1, 2: 4, 3: 9 }. \n"
   ]
  },
  {
   "cell_type": "code",
   "execution_count": 24,
   "metadata": {},
   "outputs": [],
   "source": [
    "# Solution for the Q6\n",
    "\n",
    "def dict_filler (list_1):\n",
    "    dict_out = {}\n",
    "    for s in list_1: \n",
    "        dict_out[s] = dict_out.get(s, s**2)\n",
    "    print(dict_out)\n",
    "        \n",
    "\n"
   ]
  },
  {
   "cell_type": "code",
   "execution_count": 25,
   "metadata": {},
   "outputs": [
    {
     "name": "stdout",
     "output_type": "stream",
     "text": [
      "{7: 49, 5: 25, 6: 36, 45: 2025, 23: 529, 1: 1, 4: 16, 90: 8100}\n"
     ]
    }
   ],
   "source": [
    "# Test your code for the following lists\n",
    "\n",
    "a = [7, 5, 6, 45, 23, 1, 4, 90]\n",
    "        \n",
    "b = [ 3, 5, 79, 4, 3, 81, 22]\n",
    "\n",
    "dict_filler(a)\n",
    "\n"
   ]
  },
  {
   "cell_type": "markdown",
   "metadata": {},
   "source": [
    "## [Dictionaries and Strings]\n",
    "\n",
    "### Q6:\n",
    "\n",
    "Write a Python function that calculates the average word length in a sentence entered by the user.\n",
    " \n",
    "\n",
    "\n",
    "**Hint** \n",
    "\n",
    "First split the given string by space as delimiter as follow, which gives you a list as shown in the following code."
   ]
  },
  {
   "cell_type": "code",
   "execution_count": 31,
   "metadata": {},
   "outputs": [
    {
     "name": "stdout",
     "output_type": "stream",
     "text": [
      "['Hello', 'Data', 'Analytics', 'with', 'Python', 'Course']\n",
      "6\n",
      "6\n"
     ]
    }
   ],
   "source": [
    "# sample code\n",
    "\n",
    "sentense  = 'Hello Data Analytics with Python Course'\n",
    "\n",
    "ls = sentense.split(' ')\n",
    "count = 0\n",
    "print(ls)\n",
    "print(len(ls))\n",
    "for ele in ls:\n",
    "    count +=1\n",
    "print(count)"
   ]
  },
  {
   "cell_type": "code",
   "execution_count": 16,
   "metadata": {},
   "outputs": [],
   "source": [
    "# Solution for Q6\n",
    "def word_length(string_expl):\n",
    "    string_split = string_expl. split(\" \")\n",
    "    counter = 0\n",
    "    for ele in string_split: \n",
    "        \n",
    "\n",
    "\n",
    "\n",
    "\n"
   ]
  },
  {
   "cell_type": "code",
   "execution_count": null,
   "metadata": {},
   "outputs": [],
   "source": []
  }
 ],
 "metadata": {
  "kernelspec": {
   "display_name": "Python 3",
   "language": "python",
   "name": "python3"
  },
  "language_info": {
   "codemirror_mode": {
    "name": "ipython",
    "version": 3
   },
   "file_extension": ".py",
   "mimetype": "text/x-python",
   "name": "python",
   "nbconvert_exporter": "python",
   "pygments_lexer": "ipython3",
   "version": "3.8.3"
  }
 },
 "nbformat": 4,
 "nbformat_minor": 2
}

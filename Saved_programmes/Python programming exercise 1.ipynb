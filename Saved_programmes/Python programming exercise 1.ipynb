{
 "cells": [
  {
   "cell_type": "code",
   "execution_count": 2,
   "metadata": {},
   "outputs": [
    {
     "name": "stdout",
     "output_type": "stream",
     "text": [
      "<class 'int'>\n"
     ]
    }
   ],
   "source": [
    "print(type(5))"
   ]
  },
  {
   "cell_type": "code",
   "execution_count": 3,
   "metadata": {},
   "outputs": [
    {
     "name": "stdout",
     "output_type": "stream",
     "text": [
      "<class 'str'>\n"
     ]
    }
   ],
   "source": [
    "print(type('5'))"
   ]
  },
  {
   "cell_type": "code",
   "execution_count": 4,
   "metadata": {
    "collapsed": true
   },
   "outputs": [
    {
     "name": "stdout",
     "output_type": "stream",
     "text": [
      "<class 'float'>\n"
     ]
    }
   ],
   "source": [
    "print(type(5.0))"
   ]
  },
  {
   "cell_type": "code",
   "execution_count": 5,
   "metadata": {},
   "outputs": [
    {
     "name": "stdout",
     "output_type": "stream",
     "text": [
      "<class 'bool'>\n"
     ]
    }
   ],
   "source": [
    "print(type(False))"
   ]
  },
  {
   "cell_type": "code",
   "execution_count": 6,
   "metadata": {},
   "outputs": [
    {
     "name": "stdout",
     "output_type": "stream",
     "text": [
      "<class 'str'>\n"
     ]
    }
   ],
   "source": [
    "print(type(\"True\"+ \"False\"))"
   ]
  },
  {
   "cell_type": "code",
   "execution_count": 7,
   "metadata": {},
   "outputs": [
    {
     "data": {
      "text/plain": [
       "'TrueFalse'"
      ]
     },
     "execution_count": 7,
     "metadata": {},
     "output_type": "execute_result"
    }
   ],
   "source": [
    "\"True\" + \"False\""
   ]
  },
  {
   "cell_type": "code",
   "execution_count": 8,
   "metadata": {},
   "outputs": [
    {
     "data": {
      "text/plain": [
       "10.0"
      ]
     },
     "execution_count": 8,
     "metadata": {},
     "output_type": "execute_result"
    }
   ],
   "source": [
    "5.0 + 5"
   ]
  },
  {
   "cell_type": "code",
   "execution_count": 9,
   "metadata": {},
   "outputs": [
    {
     "ename": "TypeError",
     "evalue": "can only concatenate str (not \"int\") to str",
     "output_type": "error",
     "traceback": [
      "\u001b[1;31m---------------------------------------------------------------------------\u001b[0m",
      "\u001b[1;31mTypeError\u001b[0m                                 Traceback (most recent call last)",
      "\u001b[1;32m<ipython-input-9-192a1d19ca7a>\u001b[0m in \u001b[0;36m<module>\u001b[1;34m\u001b[0m\n\u001b[1;32m----> 1\u001b[1;33m \u001b[1;34m\"2\"\u001b[0m \u001b[1;33m+\u001b[0m \u001b[1;36m2\u001b[0m\u001b[1;33m\u001b[0m\u001b[1;33m\u001b[0m\u001b[0m\n\u001b[0m",
      "\u001b[1;31mTypeError\u001b[0m: can only concatenate str (not \"int\") to str"
     ]
    }
   ],
   "source": [
    "\"2\" + 2"
   ]
  },
  {
   "cell_type": "code",
   "execution_count": 22,
   "metadata": {},
   "outputs": [
    {
     "name": "stdout",
     "output_type": "stream",
     "text": [
      "4\n",
      "5\n",
      "6\n",
      "7\n",
      "8\n"
     ]
    }
   ],
   "source": [
    "\n",
    "for i in range(4, 9):\n",
    "    print(i)"
   ]
  },
  {
   "cell_type": "code",
   "execution_count": 23,
   "metadata": {},
   "outputs": [
    {
     "name": "stdout",
     "output_type": "stream",
     "text": [
      "4\n",
      "5\n",
      "6\n",
      "7\n",
      "8\n",
      "<class 'int'>\n"
     ]
    }
   ],
   "source": [
    "\n",
    "for i in range(4, 9):\n",
    "    print(i)\n",
    "print(type(i))\n",
    "    "
   ]
  },
  {
   "cell_type": "code",
   "execution_count": 24,
   "metadata": {},
   "outputs": [
    {
     "name": "stdout",
     "output_type": "stream",
     "text": [
      "780\n"
     ]
    }
   ],
   "source": [
    "counter = 0\n",
    "for i in range (0,40):\n",
    "    counter += i\n",
    "print(counter)"
   ]
  },
  {
   "cell_type": "code",
   "execution_count": 35,
   "metadata": {},
   "outputs": [
    {
     "name": "stdout",
     "output_type": "stream",
     "text": [
      "380\n"
     ]
    }
   ],
   "source": [
    "counter = 0\n",
    "even_add_up = 0\n",
    "while counter < 40:\n",
    "    if counter % 2 == 0:\n",
    "        even_add_up += counter\n",
    "        counter += 1\n",
    "    counter += 1\n",
    "print(even_add_up)  "
   ]
  },
  {
   "cell_type": "code",
   "execution_count": 36,
   "metadata": {},
   "outputs": [
    {
     "name": "stdout",
     "output_type": "stream",
     "text": [
      "Den-Cop\n"
     ]
    }
   ],
   "source": [
    "city = \"Copenhagen\"\n",
    "country = \"Denmark\"\n",
    "\n",
    "solution = country[0:3] + '-' + city[0:3] \n",
    "print(solution)\n"
   ]
  },
  {
   "cell_type": "code",
   "execution_count": 25,
   "metadata": {},
   "outputs": [
    {
     "name": "stdout",
     "output_type": "stream",
     "text": [
      "Please specify for which number you want to find the fourth root260\n",
      "Number guesses = 1\n",
      "130.0  is a good approximation of the fourth root of 256\n",
      "Number guesses = 2\n",
      "65.0  is a good approximation of the fourth root of 256\n",
      "Number guesses = 3\n",
      "32.5  is a good approximation of the fourth root of 256\n",
      "Number guesses = 4\n",
      "16.25  is a good approximation of the fourth root of 256\n",
      "Number guesses = 5\n",
      "8.125  is a good approximation of the fourth root of 256\n",
      "Number guesses = 6\n",
      "4.0625  is a good approximation of the fourth root of 256\n",
      "Number guesses = 7\n",
      "2.03125  is a good approximation of the fourth root of 256\n",
      "Number guesses = 8\n",
      "3.046875  is a good approximation of the fourth root of 256\n",
      "Number guesses = 9\n",
      "3.5546875  is a good approximation of the fourth root of 256\n",
      "Number guesses = 10\n",
      "3.80859375  is a good approximation of the fourth root of 256\n",
      "Number guesses = 11\n",
      "3.935546875  is a good approximation of the fourth root of 256\n",
      "Number guesses = 12\n",
      "3.9990234375  is a good approximation of the fourth root of 256\n",
      "Number guesses = 13\n",
      "4.03076171875  is a good approximation of the fourth root of 256\n",
      "Number guesses = 14\n",
      "4.014892578125  is a good approximation of the fourth root of 256\n",
      "Number guesses = 15\n",
      "4.0228271484375  is a good approximation of the fourth root of 256\n",
      "Number guesses = 16\n",
      "4.01885986328125  is a good approximation of the fourth root of 256\n",
      "Number guesses = 17\n",
      "4.016876220703125  is a good approximation of the fourth root of 256\n",
      "Number guesses = 18\n",
      "4.0158843994140625  is a good approximation of the fourth root of 256\n",
      "Number guesses = 19\n",
      "4.015388488769531  is a good approximation of the fourth root of 256\n",
      "Number guesses = 20\n",
      "4.015636444091797  is a good approximation of the fourth root of 256\n",
      "Number guesses = 21\n",
      "4.015512466430664  is a good approximation of the fourth root of 256\n"
     ]
    }
   ],
   "source": [
    "number_fourth_root = float(input('Please specify for which number you want to find the fourth root'))\n",
    "epsilon = 0.01\n",
    "iterations = 0\n",
    "low = 0\n",
    "high = number_fourth_root\n",
    "ans = 0.0 #guess\n",
    "\n",
    "while abs(ans ** 4 - number_fourth_root) >= epsilon and ans <= number_fourth_root:\n",
    "    ans = (low + high) / 2.0\n",
    "    iterations += 1\n",
    "\n",
    "    if ans ** 4 < number_fourth_root:\n",
    "        low = ans\n",
    "    else:\n",
    "        high = ans\n",
    "\n",
    "    print(\"Number guesses =\" , iterations)\n",
    "    print(ans, \" is a good approximation of the fourth root of 256\")\n",
    "    \n",
    "    "
   ]
  },
  {
   "cell_type": "code",
   "execution_count": 37,
   "metadata": {},
   "outputs": [
    {
     "name": "stdout",
     "output_type": "stream",
     "text": [
      "Number guesses = 1\n",
      "2.5  is a good approximation of the fourth root \n",
      "Number guesses = 2\n",
      "1.25  is a good approximation of the fourth root \n",
      "Number guesses = 3\n",
      "1.875  is a good approximation of the fourth root \n",
      "Number guesses = 4\n",
      "1.5625  is a good approximation of the fourth root \n",
      "Number guesses = 5\n",
      "1.40625  is a good approximation of the fourth root \n",
      "Number guesses = 6\n",
      "1.484375  is a good approximation of the fourth root \n",
      "Number guesses = 7\n",
      "1.5234375  is a good approximation of the fourth root \n",
      "Number guesses = 8\n",
      "1.50390625  is a good approximation of the fourth root \n",
      "Number guesses = 9\n",
      "1.494140625  is a good approximation of the fourth root \n",
      "Number guesses = 10\n",
      "1.4990234375  is a good approximation of the fourth root \n",
      "Number guesses = 11\n",
      "1.49658203125  is a good approximation of the fourth root \n",
      "Number guesses = 12\n",
      "1.495361328125  is a good approximation of the fourth root \n",
      "Number guesses = 1\n",
      "62.5  is a good approximation of the fourth root \n",
      "Number guesses = 2\n",
      "31.25  is a good approximation of the fourth root \n",
      "Number guesses = 3\n",
      "15.625  is a good approximation of the fourth root \n",
      "Number guesses = 4\n",
      "7.8125  is a good approximation of the fourth root \n",
      "Number guesses = 5\n",
      "3.90625  is a good approximation of the fourth root \n",
      "Number guesses = 6\n",
      "1.953125  is a good approximation of the fourth root \n",
      "Number guesses = 7\n",
      "2.9296875  is a good approximation of the fourth root \n",
      "Number guesses = 8\n",
      "3.41796875  is a good approximation of the fourth root \n",
      "Number guesses = 9\n",
      "3.173828125  is a good approximation of the fourth root \n",
      "Number guesses = 10\n",
      "3.2958984375  is a good approximation of the fourth root \n",
      "Number guesses = 11\n",
      "3.35693359375  is a good approximation of the fourth root \n",
      "Number guesses = 12\n",
      "3.326416015625  is a good approximation of the fourth root \n",
      "Number guesses = 13\n",
      "3.3416748046875  is a good approximation of the fourth root \n",
      "Number guesses = 14\n",
      "3.34930419921875  is a good approximation of the fourth root \n",
      "Number guesses = 15\n",
      "3.345489501953125  is a good approximation of the fourth root \n",
      "Number guesses = 16\n",
      "3.3435821533203125  is a good approximation of the fourth root \n",
      "Number guesses = 17\n",
      "3.3445358276367188  is a good approximation of the fourth root \n",
      "Number guesses = 18\n",
      "3.3440589904785156  is a good approximation of the fourth root \n",
      "Number guesses = 19\n",
      "3.343820571899414  is a good approximation of the fourth root \n",
      "Number guesses = 20\n",
      "3.3437013626098633  is a good approximation of the fourth root \n"
     ]
    }
   ],
   "source": [
    "def fourth_root(number_fourth_root): \n",
    "    epsilon = 0.01\n",
    "    iterations = 0\n",
    "    low = 0\n",
    "    high = number_fourth_root\n",
    "    ans = 0.0\n",
    "\n",
    "    while abs(ans ** 4 - number_fourth_root) >= epsilon and ans <= number_fourth_root:\n",
    "        ans = (low + high) / 2.0\n",
    "        iterations += 1\n",
    "\n",
    "        if ans ** 4 < number_fourth_root:\n",
    "            low = ans\n",
    "        else:\n",
    "            high = ans\n",
    "\n",
    "        print(\"Number guesses =\" , iterations)\n",
    "        print(ans, \" is a good approximation of the fourth root \")\n",
    "    \n",
    "fourth_root(5)\n",
    "fourth_root(125)\n",
    "    \n",
    "    "
   ]
  },
  {
   "cell_type": "code",
   "execution_count": 29,
   "metadata": {},
   "outputs": [
    {
     "name": "stdout",
     "output_type": "stream",
     "text": [
      "32847857\n"
     ]
    }
   ],
   "source": [
    "sum = 0\n",
    "for i in range (0,10000):\n",
    "    if (i%2) == 0 or (i%5) == 0 or (i%7)==0: \n",
    "        sum+= i\n",
    "print(sum)"
   ]
  },
  {
   "cell_type": "code",
   "execution_count": 34,
   "metadata": {},
   "outputs": [
    {
     "name": "stdout",
     "output_type": "stream",
     "text": [
      "9\n"
     ]
    }
   ],
   "source": [
    "s = 'copenhagen~business~school'\n",
    "counter = 0\n",
    "for char in s: \n",
    "    if char in \"aeiou\": \n",
    "        counter+=1\n",
    "        \n",
    "print(counter)"
   ]
  }
 ],
 "metadata": {
  "kernelspec": {
   "display_name": "Python 3",
   "language": "python",
   "name": "python3"
  },
  "language_info": {
   "codemirror_mode": {
    "name": "ipython",
    "version": 3
   },
   "file_extension": ".py",
   "mimetype": "text/x-python",
   "name": "python",
   "nbconvert_exporter": "python",
   "pygments_lexer": "ipython3",
   "version": "3.8.3"
  }
 },
 "nbformat": 4,
 "nbformat_minor": 4
}
